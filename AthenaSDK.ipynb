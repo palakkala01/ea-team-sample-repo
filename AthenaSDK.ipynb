{
 "cells": [
  {
   "cell_type": "markdown",
   "metadata": {},
   "source": [
    "Install the tecton athena sdk"
   ]
  },
  {
   "cell_type": "code",
   "execution_count": 17,
   "metadata": {},
   "outputs": [
    {
     "name": "stdout",
     "output_type": "stream",
     "text": [
      "Collecting tecton[athena]==0.5.0b28\n",
      "  Downloading tecton-0.5.0b28-py3-none-any.whl (2.5 MB)\n",
      "\u001b[2K     \u001b[90m━━━━━━━━━━━━━━━━━━━━━━━━━━━━━━━━━━━━━━━━\u001b[0m \u001b[32m2.5/2.5 MB\u001b[0m \u001b[31m8.5 MB/s\u001b[0m eta \u001b[36m0:00:00\u001b[0m:00:01\u001b[0m00:01\u001b[0m\n",
      "\u001b[?25hRequirement already satisfied: pandas~=1.0 in /opt/conda/lib/python3.7/site-packages (from tecton[athena]==0.5.0b28) (1.3.5)\n",
      "Requirement already satisfied: googleapis-common-protos~=1.52 in /opt/conda/lib/python3.7/site-packages (from tecton[athena]==0.5.0b28) (1.52.0)\n",
      "Requirement already satisfied: tqdm~=4.41 in /opt/conda/lib/python3.7/site-packages (from tecton[athena]==0.5.0b28) (4.41.1)\n",
      "Requirement already satisfied: click~=8.0 in /opt/conda/lib/python3.7/site-packages (from tecton[athena]==0.5.0b28) (8.1.3)\n",
      "Requirement already satisfied: sqlparse in /opt/conda/lib/python3.7/site-packages (from tecton[athena]==0.5.0b28) (0.4.2)\n",
      "Requirement already satisfied: colorama~=0.4 in /opt/conda/lib/python3.7/site-packages (from tecton[athena]==0.5.0b28) (0.4.3)\n",
      "Requirement already satisfied: texttable in /opt/conda/lib/python3.7/site-packages (from tecton[athena]==0.5.0b28) (1.6.4)\n",
      "Requirement already satisfied: pytest in /opt/conda/lib/python3.7/site-packages (from tecton[athena]==0.5.0b28) (7.1.2)\n",
      "Requirement already satisfied: pathspec in /opt/conda/lib/python3.7/site-packages (from tecton[athena]==0.5.0b28) (0.9.0)\n",
      "Requirement already satisfied: typing-extensions~=4.1 in /opt/conda/lib/python3.7/site-packages (from tecton[athena]==0.5.0b28) (4.1.1)\n",
      "Requirement already satisfied: boto3 in /opt/conda/lib/python3.7/site-packages (from tecton[athena]==0.5.0b28) (1.24.6)\n",
      "Requirement already satisfied: jinja2~=3.0.3 in /opt/conda/lib/python3.7/site-packages (from tecton[athena]==0.5.0b28) (3.0.3)\n",
      "Requirement already satisfied: pytimeparse in /opt/conda/lib/python3.7/site-packages (from tecton[athena]==0.5.0b28) (1.1.8)\n",
      "Requirement already satisfied: numpy~=1.16 in /opt/conda/lib/python3.7/site-packages (from tecton[athena]==0.5.0b28) (1.21.6)\n",
      "Requirement already satisfied: pendulum~=2.1 in /opt/conda/lib/python3.7/site-packages (from tecton[athena]==0.5.0b28) (2.1.2)\n",
      "Requirement already satisfied: dill==0.3.0 in /opt/conda/lib/python3.7/site-packages (from tecton[athena]==0.5.0b28) (0.3.0)\n",
      "Requirement already satisfied: semantic-version in /opt/conda/lib/python3.7/site-packages (from tecton[athena]==0.5.0b28) (2.10.0)\n",
      "Requirement already satisfied: attrs<22,>=19.2 in /opt/conda/lib/python3.7/site-packages (from tecton[athena]==0.5.0b28) (19.2.0)\n",
      "Requirement already satisfied: pygments>=2.7.4 in /opt/conda/lib/python3.7/site-packages (from tecton[athena]==0.5.0b28) (2.12.0)\n",
      "Requirement already satisfied: yaspin~=0.16 in /opt/conda/lib/python3.7/site-packages (from tecton[athena]==0.5.0b28) (0.16.0)\n",
      "Collecting protobuf~=3.18\n",
      "  Downloading protobuf-3.20.1-cp37-cp37m-manylinux_2_5_x86_64.manylinux1_x86_64.whl (1.0 MB)\n",
      "\u001b[2K     \u001b[90m━━━━━━━━━━━━━━━━━━━━━━━━━━━━━━━━━━━━━━━━\u001b[0m \u001b[32m1.0/1.0 MB\u001b[0m \u001b[31m9.4 MB/s\u001b[0m eta \u001b[36m0:00:00\u001b[0m:00:01\u001b[0m00:01\u001b[0m\n",
      "\u001b[?25hRequirement already satisfied: pyarrow~=6.0.0 in /opt/conda/lib/python3.7/site-packages (from tecton[athena]==0.5.0b28) (6.0.1)\n",
      "Requirement already satisfied: requests in /opt/conda/lib/python3.7/site-packages (from tecton[athena]==0.5.0b28) (2.27.1)\n",
      "Requirement already satisfied: typeguard in /opt/conda/lib/python3.7/site-packages (from tecton[athena]==0.5.0b28) (2.13.3)\n",
      "Requirement already satisfied: awswrangler~=2.15 in /opt/conda/lib/python3.7/site-packages (from tecton[athena]==0.5.0b28) (2.15.1)\n",
      "Requirement already satisfied: requests-aws4auth<2.0.0,>=1.1.1 in /opt/conda/lib/python3.7/site-packages (from awswrangler~=2.15->tecton[athena]==0.5.0b28) (1.1.2)\n",
      "Requirement already satisfied: botocore<2.0.0,>=1.23.17 in /opt/conda/lib/python3.7/site-packages (from awswrangler~=2.15->tecton[athena]==0.5.0b28) (1.27.6)\n",
      "Requirement already satisfied: progressbar2<5.0.0,>=4.0.0 in /opt/conda/lib/python3.7/site-packages (from awswrangler~=2.15->tecton[athena]==0.5.0b28) (4.0.0)\n",
      "Requirement already satisfied: pymysql<2.0.0,>=1.0.0 in /opt/conda/lib/python3.7/site-packages (from awswrangler~=2.15->tecton[athena]==0.5.0b28) (1.0.2)\n",
      "Requirement already satisfied: pg8000<2.0.0,>=1.20.0 in /opt/conda/lib/python3.7/site-packages (from awswrangler~=2.15->tecton[athena]==0.5.0b28) (1.29.1)\n",
      "Requirement already satisfied: jsonpath-ng<2.0.0,>=1.5.3 in /opt/conda/lib/python3.7/site-packages (from awswrangler~=2.15->tecton[athena]==0.5.0b28) (1.5.3)\n",
      "Requirement already satisfied: openpyxl<3.1.0,>=3.0.0 in /opt/conda/lib/python3.7/site-packages (from awswrangler~=2.15->tecton[athena]==0.5.0b28) (3.0.3)\n",
      "Requirement already satisfied: redshift-connector<2.1.0,>=2.0.889 in /opt/conda/lib/python3.7/site-packages (from awswrangler~=2.15->tecton[athena]==0.5.0b28) (2.0.907)\n",
      "Requirement already satisfied: gremlinpython<4.0.0,>=3.5.2 in /opt/conda/lib/python3.7/site-packages (from awswrangler~=2.15->tecton[athena]==0.5.0b28) (3.6.0)\n",
      "Requirement already satisfied: backoff<2.0.0,>=1.11.1 in /opt/conda/lib/python3.7/site-packages (from awswrangler~=2.15->tecton[athena]==0.5.0b28) (1.11.1)\n",
      "Requirement already satisfied: opensearch-py<2.0.0,>=1.0.0 in /opt/conda/lib/python3.7/site-packages (from awswrangler~=2.15->tecton[athena]==0.5.0b28) (1.1.0)\n",
      "Requirement already satisfied: jmespath<2.0.0,>=0.7.1 in /opt/conda/lib/python3.7/site-packages (from boto3->tecton[athena]==0.5.0b28) (1.0.0)\n",
      "Requirement already satisfied: s3transfer<0.7.0,>=0.6.0 in /opt/conda/lib/python3.7/site-packages (from boto3->tecton[athena]==0.5.0b28) (0.6.0)\n",
      "Requirement already satisfied: importlib-metadata in /opt/conda/lib/python3.7/site-packages (from click~=8.0->tecton[athena]==0.5.0b28) (4.11.4)\n",
      "Requirement already satisfied: MarkupSafe>=2.0 in /opt/conda/lib/python3.7/site-packages (from jinja2~=3.0.3->tecton[athena]==0.5.0b28) (2.1.1)\n",
      "Requirement already satisfied: python-dateutil>=2.7.3 in /opt/conda/lib/python3.7/site-packages (from pandas~=1.0->tecton[athena]==0.5.0b28) (2.8.2)\n",
      "Requirement already satisfied: pytz>=2017.3 in /opt/conda/lib/python3.7/site-packages (from pandas~=1.0->tecton[athena]==0.5.0b28) (2022.1)\n",
      "Requirement already satisfied: pytzdata>=2020.1 in /opt/conda/lib/python3.7/site-packages (from pendulum~=2.1->tecton[athena]==0.5.0b28) (2020.1)\n",
      "Requirement already satisfied: tomli>=1.0.0 in /opt/conda/lib/python3.7/site-packages (from pytest->tecton[athena]==0.5.0b28) (2.0.1)\n",
      "Requirement already satisfied: iniconfig in /opt/conda/lib/python3.7/site-packages (from pytest->tecton[athena]==0.5.0b28) (1.1.1)\n",
      "Requirement already satisfied: pluggy<2.0,>=0.12 in /opt/conda/lib/python3.7/site-packages (from pytest->tecton[athena]==0.5.0b28) (1.0.0)\n",
      "Requirement already satisfied: py>=1.8.2 in /opt/conda/lib/python3.7/site-packages (from pytest->tecton[athena]==0.5.0b28) (1.11.0)\n",
      "Requirement already satisfied: packaging in /opt/conda/lib/python3.7/site-packages (from pytest->tecton[athena]==0.5.0b28) (21.3)\n",
      "Requirement already satisfied: urllib3<1.27,>=1.21.1 in /opt/conda/lib/python3.7/site-packages (from requests->tecton[athena]==0.5.0b28) (1.26.9)\n",
      "Requirement already satisfied: charset-normalizer~=2.0.0 in /opt/conda/lib/python3.7/site-packages (from requests->tecton[athena]==0.5.0b28) (2.0.12)\n",
      "Requirement already satisfied: idna<4,>=2.5 in /opt/conda/lib/python3.7/site-packages (from requests->tecton[athena]==0.5.0b28) (3.3)\n",
      "Requirement already satisfied: certifi>=2017.4.17 in /opt/conda/lib/python3.7/site-packages (from requests->tecton[athena]==0.5.0b28) (2022.5.18.1)\n",
      "Requirement already satisfied: nest-asyncio in /opt/conda/lib/python3.7/site-packages (from gremlinpython<4.0.0,>=3.5.2->awswrangler~=2.15->tecton[athena]==0.5.0b28) (1.5.5)\n",
      "Requirement already satisfied: aenum<4.0.0,>=1.4.5 in /opt/conda/lib/python3.7/site-packages (from gremlinpython<4.0.0,>=3.5.2->awswrangler~=2.15->tecton[athena]==0.5.0b28) (3.1.11)\n",
      "Requirement already satisfied: isodate<1.0.0,>=0.6.0 in /opt/conda/lib/python3.7/site-packages (from gremlinpython<4.0.0,>=3.5.2->awswrangler~=2.15->tecton[athena]==0.5.0b28) (0.6.1)\n",
      "Requirement already satisfied: aiohttp<=3.8.1,>=3.8.0 in /opt/conda/lib/python3.7/site-packages (from gremlinpython<4.0.0,>=3.5.2->awswrangler~=2.15->tecton[athena]==0.5.0b28) (3.8.1)\n",
      "Requirement already satisfied: zipp>=0.5 in /opt/conda/lib/python3.7/site-packages (from importlib-metadata->click~=8.0->tecton[athena]==0.5.0b28) (3.8.0)\n",
      "Requirement already satisfied: ply in /opt/conda/lib/python3.7/site-packages (from jsonpath-ng<2.0.0,>=1.5.3->awswrangler~=2.15->tecton[athena]==0.5.0b28) (3.11)\n",
      "Requirement already satisfied: six in /opt/conda/lib/python3.7/site-packages (from jsonpath-ng<2.0.0,>=1.5.3->awswrangler~=2.15->tecton[athena]==0.5.0b28) (1.16.0)\n",
      "Requirement already satisfied: decorator in /opt/conda/lib/python3.7/site-packages (from jsonpath-ng<2.0.0,>=1.5.3->awswrangler~=2.15->tecton[athena]==0.5.0b28) (4.4.1)\n",
      "Requirement already satisfied: et-xmlfile in /opt/conda/lib/python3.7/site-packages (from openpyxl<3.1.0,>=3.0.0->awswrangler~=2.15->tecton[athena]==0.5.0b28) (1.0.1)\n",
      "Requirement already satisfied: jdcal in /opt/conda/lib/python3.7/site-packages (from openpyxl<3.1.0,>=3.0.0->awswrangler~=2.15->tecton[athena]==0.5.0b28) (1.4.1)\n",
      "Requirement already satisfied: scramp>=1.4.1 in /opt/conda/lib/python3.7/site-packages (from pg8000<2.0.0,>=1.20.0->awswrangler~=2.15->tecton[athena]==0.5.0b28) (1.4.1)\n",
      "Requirement already satisfied: python-utils>=3.0.0 in /opt/conda/lib/python3.7/site-packages (from progressbar2<5.0.0,>=4.0.0->awswrangler~=2.15->tecton[athena]==0.5.0b28) (3.3.3)\n",
      "Requirement already satisfied: lxml>=4.6.5 in /opt/conda/lib/python3.7/site-packages (from redshift-connector<2.1.0,>=2.0.889->awswrangler~=2.15->tecton[athena]==0.5.0b28) (4.8.0)\n",
      "Requirement already satisfied: beautifulsoup4<5.0.0,>=4.7.0 in /opt/conda/lib/python3.7/site-packages (from redshift-connector<2.1.0,>=2.0.889->awswrangler~=2.15->tecton[athena]==0.5.0b28) (4.8.2)\n",
      "Requirement already satisfied: pyparsing!=3.0.5,>=2.0.2 in /opt/conda/lib/python3.7/site-packages (from packaging->pytest->tecton[athena]==0.5.0b28) (3.0.9)\n",
      "Requirement already satisfied: asynctest==0.13.0 in /opt/conda/lib/python3.7/site-packages (from aiohttp<=3.8.1,>=3.8.0->gremlinpython<4.0.0,>=3.5.2->awswrangler~=2.15->tecton[athena]==0.5.0b28) (0.13.0)\n",
      "Requirement already satisfied: async-timeout<5.0,>=4.0.0a3 in /opt/conda/lib/python3.7/site-packages (from aiohttp<=3.8.1,>=3.8.0->gremlinpython<4.0.0,>=3.5.2->awswrangler~=2.15->tecton[athena]==0.5.0b28) (4.0.2)\n",
      "Requirement already satisfied: aiosignal>=1.1.2 in /opt/conda/lib/python3.7/site-packages (from aiohttp<=3.8.1,>=3.8.0->gremlinpython<4.0.0,>=3.5.2->awswrangler~=2.15->tecton[athena]==0.5.0b28) (1.2.0)\n",
      "Requirement already satisfied: yarl<2.0,>=1.0 in /opt/conda/lib/python3.7/site-packages (from aiohttp<=3.8.1,>=3.8.0->gremlinpython<4.0.0,>=3.5.2->awswrangler~=2.15->tecton[athena]==0.5.0b28) (1.7.2)\n",
      "Requirement already satisfied: multidict<7.0,>=4.5 in /opt/conda/lib/python3.7/site-packages (from aiohttp<=3.8.1,>=3.8.0->gremlinpython<4.0.0,>=3.5.2->awswrangler~=2.15->tecton[athena]==0.5.0b28) (6.0.2)\n",
      "Requirement already satisfied: frozenlist>=1.1.1 in /opt/conda/lib/python3.7/site-packages (from aiohttp<=3.8.1,>=3.8.0->gremlinpython<4.0.0,>=3.5.2->awswrangler~=2.15->tecton[athena]==0.5.0b28) (1.3.0)\n",
      "Requirement already satisfied: soupsieve>=1.2 in /opt/conda/lib/python3.7/site-packages (from beautifulsoup4<5.0.0,>=4.7.0->redshift-connector<2.1.0,>=2.0.889->awswrangler~=2.15->tecton[athena]==0.5.0b28) (1.9.5)\n",
      "Requirement already satisfied: asn1crypto>=1.4.0 in /opt/conda/lib/python3.7/site-packages (from scramp>=1.4.1->pg8000<2.0.0,>=1.20.0->awswrangler~=2.15->tecton[athena]==0.5.0b28) (1.5.1)\n",
      "Installing collected packages: protobuf, tecton\n",
      "  Attempting uninstall: protobuf\n",
      "    Found existing installation: protobuf 3.13.0\n",
      "    Uninstalling protobuf-3.13.0:\n",
      "      Successfully uninstalled protobuf-3.13.0\n",
      "  Attempting uninstall: tecton\n",
      "    Found existing installation: tecton 99.99.99\n",
      "    Uninstalling tecton-99.99.99:\n",
      "      Successfully uninstalled tecton-99.99.99\n",
      "\u001b[31mERROR: pip's dependency resolver does not currently take into account all the packages that are installed. This behaviour is the source of the following dependency conflicts.\n",
      "sagemaker 2.88.1 requires attrs==20.3.0, but you have attrs 19.2.0 which is incompatible.\u001b[0m\u001b[31m\n",
      "\u001b[0mSuccessfully installed protobuf-3.20.1 tecton-0.5.0b28\n",
      "\u001b[33mWARNING: Running pip as the 'root' user can result in broken permissions and conflicting behaviour with the system package manager. It is recommended to use a virtual environment instead: https://pip.pypa.io/warnings/venv\u001b[0m\u001b[33m\n",
      "\u001b[0m\u001b[33mWARNING: You are using pip version 22.0.4; however, version 22.2.2 is available.\n",
      "You should consider upgrading via the '/opt/conda/bin/python -m pip install --upgrade pip' command.\u001b[0m\u001b[33m\n",
      "\u001b[0m"
     ]
    }
   ],
   "source": [
    "!pip install 'tecton[athena]==0.5.0b52'"
   ]
  },
  {
   "cell_type": "markdown",
   "metadata": {},
   "source": [
    "Set Athena connector configurations\n",
    "\n",
    "ATHENA_DATABASE - glue database that is used to store temporary tables that are queried by Tecton\n"
   ]
  },
  {
   "cell_type": "code",
   "execution_count": 8,
   "metadata": {},
   "outputs": [
    {
     "name": "stdout",
     "output_type": "stream",
     "text": [
      "Version: 0.5.0b28\n",
      "Git Commit: 068e00ce483b51c1f5d23e445edb8f62e02314e0\n",
      "Build Datetime: 2022-07-21T13:36:50\n"
     ]
    }
   ],
   "source": [
    "import random\n",
    "import string\n",
    "import tecton\n",
    "import tecton_athena\n",
    "\n",
    "tecton.conf.set(\"ALPHA_ATHENA_COMPUTE_ENABLED\", \"true\")\n",
    "spine_table_name = \"TEMP_SPINE_TABLE_FROM_DF_\" + ''.join(random.choices(string.ascii_lowercase, k=5))\n",
    "tecton.conf.set(\"ATHENA_SPINE_TEMP_TABLE_NAME\", spine_table_name)\n",
    "tecton.conf.set(\"ATHENA_DATABASE\", \"tecton_poc_db\")\n",
    "\n",
    "import tecton\n",
    "tecton.version.summary()"
   ]
  },
  {
   "cell_type": "markdown",
   "metadata": {},
   "source": [
    "Vanguard has workgroups associated with Athena queries. In order to enforce the workgroup settings we specify the workgroup name."
   ]
  },
  {
   "cell_type": "code",
   "execution_count": 2,
   "metadata": {},
   "outputs": [],
   "source": [
    "\n",
    "session = tecton_athena.athena_session.get_session() \n",
    "config = session.config\n",
    "\n",
    "config.workgroup = \"camp-hung-aiml-Workgroup\""
   ]
  },
  {
   "cell_type": "markdown",
   "metadata": {},
   "source": [
    "Everyone can create a workspace for themselves. In the sagemaker terminal go ahead and run the following commands:\n",
    "\n",
    "1) tecton login --manual\n",
    "\n",
    "When prompted for the cluster name you can specificy https://vanguard-poc.tecton.ai\n",
    "\n",
    "You'll be prompted to copy and paste a url into the browser. That will provide you with a token that you then paste back into the terminal. If you haven't logged into tecton yet it'll ask you to logon\n",
    "\n",
    "In order to authenticate with the Tecton service from the notebook you'll create an api key from the terminal\n",
    "\n",
    "2) tecton api-key create\n",
    "\n",
    "Copy and paste the api_key into the \"TECTON_API_KEY\" configuration below"
   ]
  },
  {
   "cell_type": "code",
   "execution_count": 3,
   "metadata": {},
   "outputs": [],
   "source": [
    "tecton.conf.set(\"API_SERVICE\" , \"https://vanguard-poc.tecton.ai/api\")\n",
    "tecton.conf.set(\"TECTON_API_KEY\", \"fe981c75a30a9d716ecd1d896e5a3412\")"
   ]
  },
  {
   "cell_type": "markdown",
   "metadata": {},
   "source": [
    "You can then create your own workspace\n",
    "\n",
    "2) tecton workspace create \"your name\" --live\n",
    "\n",
    "The --live flag means that you've created a workspace that allows for materialization\n",
    "\n",
    "You can now create a branch for yourself of the code commit repo and apply it to your workspace\n",
    "\n",
    "3) tecton apply\n",
    "\n",
    "tecton apply syncs what is in your branch of the repo with your development workspace"
   ]
  },
  {
   "cell_type": "code",
   "execution_count": 4,
   "metadata": {},
   "outputs": [
    {
     "data": {
      "text/plain": [
       "['last_transaction_amount',\n",
       " 'merchant_fraud_rate',\n",
       " 'stock_price_feature_view',\n",
       " 'transaction_user_is_adult',\n",
       " 'user_credit_card_issuer',\n",
       " 'user_date_of_birth',\n",
       " 'user_distinct_merchant_transaction_count_30d',\n",
       " 'user_home_location',\n",
       " 'user_merchant_transaction_counts',\n",
       " 'user_transaction_counts',\n",
       " 'user_weekend_transaction_count_30d']"
      ]
     },
     "execution_count": 4,
     "metadata": {},
     "output_type": "execute_result"
    }
   ],
   "source": [
    "# you can replace prod here with the name of the workspace you created for your self\n",
    "ws = tecton.get_workspace('prod')\n",
    "\n",
    "# you can now see all of the feature views that have data\n",
    "ws.list_feature_views()"
   ]
  },
  {
   "cell_type": "code",
   "execution_count": null,
   "metadata": {},
   "outputs": [],
   "source": [
    "ws = tecton.get_workspace(\"eddie\")\n",
    "\n",
    "fv = ws.get_feature_view(\"feature_view_global_age_avg\")\n",
    "\n",
    "ghf = fv.get_historical_features()\n",
    "\n",
    "ghf.to_spark().show()"
   ]
  },
  {
   "cell_type": "code",
   "execution_count": null,
   "metadata": {},
   "outputs": [],
   "source": [
    "data = [{\"assets\": \"\\\"[100, 200, 300]\\\"\", \"persona_index\": 1234}]\n",
    "\n",
    "df = spark.createDataFrame(data)\n",
    "\n",
    "df.show()"
   ]
  },
  {
   "cell_type": "code",
   "execution_count": null,
   "metadata": {},
   "outputs": [],
   "source": [
    "fv = ws.get_feature_view(\"on_demand_feature_view_sum_of_assets\")\n",
    "\n",
    "result = fv.get_historical_features(spine=df)\n",
    "\n",
    "result.to_spark().show()"
   ]
  },
  {
   "cell_type": "code",
   "execution_count": null,
   "metadata": {},
   "outputs": [],
   "source": [
    "data = [{\"gender\": \"F\", \"persona_index\": 1234}]\n",
    "\n",
    "df = spark.createDataFrame(data)\n",
    "\n",
    "df.show()"
   ]
  },
  {
   "cell_type": "code",
   "execution_count": null,
   "metadata": {},
   "outputs": [],
   "source": [
    "fv = ws.get_feature_view(\"on_demand_feature_view_one_hot_encoded_gender\")\n",
    " \n",
    "result = fv.get_historical_features(spine=df)\n",
    " \n",
    "result.to_spark().show()"
   ]
  },
  {
   "cell_type": "code",
   "execution_count": null,
   "metadata": {},
   "outputs": [],
   "source": [
    "import datetime;\n",
    "  \n",
    "# ct stores current time\n",
    "ct = datetime.datetime.now()\n",
    "\n",
    "data = [{\"dob\": \"6-18-1983\", \"persona_index\": 1234, \"timestamp\": ct}]\n",
    "\n",
    "df = spark.createDataFrame(data)\n",
    "\n",
    "df.show()"
   ]
  },
  {
   "cell_type": "code",
   "execution_count": null,
   "metadata": {},
   "outputs": [],
   "source": [
    "fv = ws.get_feature_view(\"on_demand_feature_view_normalized_age\")\n",
    "\n",
    "result = fv.get_historical_features(spine=df)\n",
    "\n",
    "result.to_spark().show()"
   ]
  },
  {
   "cell_type": "code",
   "execution_count": null,
   "metadata": {},
   "outputs": [],
   "source": [
    "import datetime;\n",
    "  \n",
    "# ct stores current time\n",
    "ct = datetime.datetime.now()\n",
    "\n",
    "data = [{\"persona_index\": 1234, \"assets\": \"\\\"[100, 200, 300]\\\"\",\"gender\": \"M\" ,\"dob\": \"6-18-1983\", \"timestamp\": ct } ]\n",
    "\n",
    "df = spark.createDataFrame(data)\n",
    "\n",
    "df.show()"
   ]
  },
  {
   "cell_type": "code",
   "execution_count": null,
   "metadata": {},
   "outputs": [],
   "source": [
    "fs = ws.get_feature_service(\"ea_team_feature_service\")\n",
    "\n",
    "result = fs.get_historical_features(spine=df)\n",
    "\n",
    "result.to_spark().show()"
   ]
  }
 ],
 "metadata": {
  "instance_type": "ml.g4dn.xlarge",
  "kernelspec": {
   "display_name": "Python 3 (ipykernel)",
   "language": "python",
   "name": "python3"
  },
  "language_info": {
   "codemirror_mode": {
    "name": "ipython",
    "version": 3
   },
   "file_extension": ".py",
   "mimetype": "text/x-python",
   "name": "python",
   "nbconvert_exporter": "python",
   "pygments_lexer": "ipython3",
   "version": "3.8.12"
  }
 },
 "nbformat": 4,
 "nbformat_minor": 4
}
